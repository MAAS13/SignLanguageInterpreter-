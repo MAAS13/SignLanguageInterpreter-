{
 "cells": [
  {
   "cell_type": "code",
   "execution_count": null,
   "metadata": {},
   "outputs": [],
   "source": [
    "%matplotlib inline\n",
    "import numpy as np\n",
    "import pandas as pd\n",
    "import matplotlib.pyplot as plt\n",
    "import seaborn as sns\n",
    "import time \n",
    "import os, sys    \n",
    "import copy\n",
    "\n",
    "from sklearn.model_selection import train_test_split\n",
    "import torch\n",
    "import torch.nn as nn\n",
    "import torch.nn.functional as F\n",
    "\n",
    "from CNN_Utils import *\n",
    "from global_defs import *\n",
    "\n",
    "import warnings\n",
    "warnings.filterwarnings('ignore')"
   ]
  },
  {
   "cell_type": "code",
   "execution_count": null,
   "metadata": {},
   "outputs": [],
   "source": [
    "train_image_file = 'sign_mnist_train.csv'\n",
    "\n",
    "test_image_file = 'sign_mnist_test.csv'"
   ]
  },
  {
   "cell_type": "code",
   "execution_count": null,
   "metadata": {},
   "outputs": [],
   "source": [
    "train = pd.read_csv(train_image_file)\n",
    "\n",
    "train_labels = train['label'].values\n",
    "\n",
    "train.drop('label', axis = 1, inplace = True)\n",
    "\n",
    "train_images = train.values\n",
    "train_images = train_images.reshape(train_images.shape[0], 28, 28)"
   ]
  },
  {
   "cell_type": "code",
   "execution_count": null,
   "metadata": {
    "collapsed": true
   },
   "outputs": [],
   "source": [
    "test = pd.read_csv(test_image_file)\n",
    "\n",
    "test_labels = test['label'].values\n",
    "\n",
    "test.drop('label', axis = 1, inplace = True)\n",
    "    \n",
    "test_images = test.values\n",
    "test_images = test_images.reshape(test_images.shape[0], 28, 28)"
   ]
  },
  {
   "cell_type": "code",
   "execution_count": null,
   "metadata": {
    "collapsed": true
   },
   "outputs": [],
   "source": [
    "class convnet(nn.Module):\n",
    "\n",
    "    def __init__(self, classes, dropout1):\n",
    "\n",
    "        super(convnet, self).__init__()\n",
    "        \n",
    "        # CL1:   28 x 28  -->    64 x 28 x 28 \n",
    "        self.conv1 = nn.Conv2d(1, 64, kernel_size=3, padding=1)\n",
    "        \n",
    "        # MP1: 64 x 28 x 28 -->    64 x 14 x 14\n",
    "        self.pool1  = nn.MaxPool2d(2,2)\n",
    "        \n",
    "        # CL2:   64 x 14 x 14  -->    64 x 14 x 14 \n",
    "        self.conv2 = nn.Conv2d(64,  64,  kernel_size=3, padding=1 )\n",
    "        \n",
    "        # MP2: 64 x 14 x 14  -->    64 x 7 x 7\n",
    "        self.pool2 = nn.MaxPool2d(2,2)\n",
    "        \n",
    "        # CL3:   64 x 7 x 7  -->    64 x 7 x 7 \n",
    "        self.conv3 = nn.Conv2d(64,  64,  kernel_size=3, padding=1 )\n",
    "        \n",
    "        self.to_pad = 1\n",
    "        # MP3: 64 x 7 x 7  -->    64 x 4 x 4 or 64 x 3 x 3, depending on padding\n",
    "        self.pool3 = nn.MaxPool2d(2,2, padding=self.to_pad)\n",
    "        \n",
    "        if self.to_pad:\n",
    "            # LL1:   64 x 4 x 4 = 1024 -->  128 \n",
    "            self.linear1 = nn.Linear(1024, 128)\n",
    "        else:\n",
    "            # LL1:   64 x 3 x 3 = 576 -->  128 \n",
    "            self.linear1 = nn.Linear(576, 128)\n",
    "        \n",
    "        self.dropout1 = nn.Dropout(dropout1) \n",
    "        \n",
    "        # LL2:   128  -->  classes\n",
    "        self.linear2 = nn.Linear(128, classes)\n",
    "\n",
    "\n",
    "    def forward(self, x):\n",
    "\n",
    "        # CL1:   28 x 28  -->    64 x 28 x 28 \n",
    "        x = self.conv1(x)\n",
    "        x = F.relu(x)\n",
    "        \n",
    "        # MP1: 64 x 28 x 28 -->    64 x 14 x 14\n",
    "        x = self.pool1(x)\n",
    "        \n",
    "        # CL2:   64 x 14 x 14  -->    64 x 14 x 14 \n",
    "        x = self.conv2(x)\n",
    "        x = F.relu(x)\n",
    "        \n",
    "        # MP2: 64 x 14 x 14  -->    64 x 7 x 7\n",
    "        x = self.pool2(x)\n",
    "\n",
    "        # CL3:   64 x 7 x 7  -->    64 x 7 x 7 \n",
    "        x = self.conv3(x)\n",
    "        x = F.relu(x)\n",
    "        \n",
    "        # MP3: 64 x 7 x 7  -->    64 x 4 x 4 or 64 x 3 x 3, depending on padding\n",
    "        x = self.pool3(x)\n",
    "        \n",
    "        \n",
    "        # LL1 \n",
    "        if self.to_pad: x = x.view(-1, 1024)   ### reshape\n",
    "        else: x = x.view(-1, 576)\n",
    "        x = self.linear1(x)\n",
    "        x = F.relu(x)\n",
    "        \n",
    "        \n",
    "        # Droput\n",
    "        x = self.dropout1(x)\n",
    "        \n",
    "        # LL2:   128  -->  classes\n",
    "        x = self.linear2(x)\n",
    "    \n",
    "        return x\n",
    " "
   ]
  },
  {
   "cell_type": "code",
   "execution_count": null,
   "metadata": {
    "collapsed": true
   },
   "outputs": [],
   "source": [
    "def display_num_param(self, net):\n",
    "        nb_param = 0\n",
    "        for param in net.parameters():\n",
    "            nb_param += param.numel()\n",
    "        print('There are {} ({:.2f} million) parameters in this neural network'.format(\n",
    "            nb_param, nb_param/1e6)\n",
    "            )\n"
   ]
  },
  {
   "cell_type": "markdown",
   "metadata": {},
   "source": [
    "We observed the fastest rate of training convergence (over 100 epochs) for this network with learning rate of 0.001. This value is divided by 1.5 after every 10th epoch of training. "
   ]
  },
  {
   "cell_type": "code",
   "execution_count": null,
   "metadata": {},
   "outputs": [],
   "source": [
    "my_lr = 0.001 \n",
    "\n",
    "epochs = 10\n",
    "\n",
    "batch_size = 128         \n",
    "    \n",
    "classes = 26  #### possible characters\n",
    "\n",
    "CNNutils = CNN_Utils(my_lr, batch_size, epochs)\n",
    "\n",
    "model_name = 'Cnet_Kaggle'"
   ]
  },
  {
   "cell_type": "markdown",
   "metadata": {},
   "source": [
    "### Cross Validation (CV)\n",
    "\n",
    "The check the performance of the network on samples from training set, the data is randomly split into 90% training and 10% \n",
    "validation portions in 10 iterations of CV.  "
   ]
  },
  {
   "cell_type": "code",
   "execution_count": null,
   "metadata": {
    "collapsed": true
   },
   "outputs": [],
   "source": [
    "def CrossEval( model_name, dropout):\n",
    "    \n",
    "        ######################################## validation #########################################   \n",
    "        eval_error = 0\n",
    "        CV = 10\n",
    "        \n",
    "        train_history_over_CV = []\n",
    "        val_history_over_CV = []\n",
    "\n",
    "        for cv in range(CV):\n",
    "            \n",
    "            train_data,validation_data,train_lbls,validation_lbls = CNNutils.prep_train_validate_data(train_images, train_labels, split=0.10)\n",
    "            \n",
    "            if cv==0:\n",
    "                print('Train Data Shape: ', train_data.shape, '\\nValidation Data Shape: ', validation_data.shape)\n",
    "                print('\\n')\n",
    "                            \n",
    "            print('CV Iteration :', cv)\n",
    "            \n",
    "                            \n",
    "            ### model ###\n",
    "            \n",
    "            Cnet = convnet(classes, dropout).double()\n",
    "        \n",
    "            if device.type == \"cuda\":\n",
    "                Cnet = Cnet.cuda()   #### how to re-initialize instead of creating new object???\n",
    "                        \n",
    "            \n",
    "            train_history, validation_history = CNNutils.train_Cnet(Cnet, train_data, train_lbls, validation_data, validation_lbls, device)        \n",
    "            \n",
    "            \n",
    "            ### accumulate history for each CV loop, then take average \n",
    "            train_history_over_CV.append(train_history)\n",
    "            val_history_over_CV.append(validation_history)\n",
    "            \n",
    "            del Cnet\n",
    "\n",
    "            \n",
    "            \n",
    "        CNNutils.plot_CV_history(copy.deepcopy(train_history_over_CV), copy.deepcopy(val_history_over_CV))\n",
    "       \n",
    "        torch.save({'train_history':train_history_over_CV, 'test_history':val_history_over_CV}, model_name + '_CV_history.pt')"
   ]
  },
  {
   "cell_type": "code",
   "execution_count": null,
   "metadata": {},
   "outputs": [],
   "source": [
    "dropout = 0.2\n",
    "\n",
    "CrossEval(model_name, dropout)"
   ]
  },
  {
   "cell_type": "markdown",
   "metadata": {},
   "source": [
    "# Full Training\n",
    "\n",
    "Here, we train the CNN on entire training dataset while simultaneuosly evaluating on the actual test data. "
   ]
  },
  {
   "cell_type": "code",
   "execution_count": null,
   "metadata": {
    "collapsed": true
   },
   "outputs": [],
   "source": [
    "def FullTrain( model_name, dropout):   \n",
    "        \n",
    "        ########################   train on full data #####################################\n",
    "        \n",
    "        Cnet = convnet(classes, dropout).double()\n",
    "        \n",
    "        if device.type == \"cuda\":\n",
    "            Cnet = Cnet.cuda()\n",
    "        \n",
    "        train_data, _, train_lbls, _ = CNNutils.prep_train_validate_data(train_images, train_labels, split=0.00)\n",
    "        \n",
    "        test_data, test_lbls = CNNutils.prep_test_data(test_images, test_labels)\n",
    "        \n",
    "        print('Train Data Shape: ', train_data.shape, '\\nTest Data Shape: ', test_data.shape)\n",
    "        \n",
    "        print('\\n')\n",
    "        \n",
    "        \n",
    "        \n",
    "        train_history, test_history = CNNutils.train_Cnet(Cnet, train_data, train_lbls, test_data, test_lbls, device)\n",
    "        \n",
    "        CNNutils.plot_FullTrain_history(train_history, test_history)\n",
    "        \n",
    "        torch.save({'train_history': train_history, 'test_history':test_history}, model_name + '_full_history.pt')\n",
    "        \n",
    "        torch.save(Cnet, model_name + '.pth')   ### save model\n",
    "        \n",
    "        del Cnet"
   ]
  },
  {
   "cell_type": "code",
   "execution_count": null,
   "metadata": {
    "scrolled": false
   },
   "outputs": [],
   "source": [
    "dropout = 0.2\n",
    "\n",
    "FullTrain(model_name, dropout)"
   ]
  },
  {
   "cell_type": "markdown",
   "metadata": {},
   "source": [
    "The test performance of CNN is worse than that on Cross-Validation data. Hence, it can be inferred that test images have been sampled from a population outside the training set."
   ]
  },
  {
   "cell_type": "code",
   "execution_count": null,
   "metadata": {
    "collapsed": true
   },
   "outputs": [],
   "source": []
  }
 ],
 "metadata": {
  "kernelspec": {
   "display_name": "Python 3",
   "language": "python",
   "name": "python3"
  },
  "language_info": {
   "codemirror_mode": {
    "name": "ipython",
    "version": 3
   },
   "file_extension": ".py",
   "mimetype": "text/x-python",
   "name": "python",
   "nbconvert_exporter": "python",
   "pygments_lexer": "ipython3",
   "version": "3.6.6"
  }
 },
 "nbformat": 4,
 "nbformat_minor": 1
}
